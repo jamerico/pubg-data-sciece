{
 "cells": [
  {
   "cell_type": "code",
   "execution_count": 1,
   "metadata": {},
   "outputs": [],
   "source": [
    "import numpy as np\n",
    "import pandas as pd\n",
    "import matplotlib.pyplot as plt\n",
    "import seaborn as sns \n",
    "from sklearn.linear_model import LinearRegression\n",
    "from sklearn.linear_model import Ridge\n",
    "from sklearn.preprocessing import PolynomialFeatures\n",
    "from sklearn.pipeline import make_pipeline, Pipeline\n",
    "from sklearn.preprocessing import OneHotEncoder\n",
    "from sklearn.model_selection import KFold\n",
    "from sklearn.metrics import mean_squared_error\n",
    "from sklearn.neural_network import MLPRegressor\n",
    "import collections\n",
    "\n",
    "from sklearn.ensemble  import GradientBoostingRegressor\n",
    "from sklearn.preprocessing import StandardScaler\n",
    "import xgboost as xgb\n",
    "import time \n",
    "import warnings\n",
    "import os\n",
    "warnings.filterwarnings(\"ignore\")"
   ]
  },
  {
   "cell_type": "code",
   "execution_count": 2,
   "metadata": {},
   "outputs": [],
   "source": [
    "data_path = os.path.join('..','..','1_Data','Cleaned Data','data_cleaned.csv')\n",
    "output_path = 'data'\n",
    "df = pd.read_csv(data_path)\n"
   ]
  },
  {
   "cell_type": "code",
   "execution_count": 3,
   "metadata": {},
   "outputs": [],
   "source": [
    "df = df.sample(1000000)"
   ]
  },
  {
   "cell_type": "code",
   "execution_count": 4,
   "metadata": {},
   "outputs": [
    {
     "name": "stdout",
     "output_type": "stream",
     "text": [
      "         Unnamed: 0              Id         groupId         matchId  assists  \\\n",
      "2867857     3479201  f64435fb85e1df  7d14c71e043e19  67282b1619dc8a        0   \n",
      "3489400     4233136  c69b27fa72e9c6  8ec148ff507e29  bad2de029dd8bf        1   \n",
      "3650171     4428209  ccb6a3469cc639  9cee7d0108bb45  8d827ca495917a        0   \n",
      "\n",
      "         boosts  damageDealt  DBNOs  headshotKills  heals  ...  revives  \\\n",
      "2867857       0          0.0      0              0      0  ...        0   \n",
      "3489400       3        121.0      0              0      2  ...        0   \n",
      "3650171       0         38.7      0              0      0  ...        0   \n",
      "\n",
      "         rideDistance  roadKills  swimDistance  teamKills  vehicleDestroys  \\\n",
      "2867857           0.0          0           0.0          0                0   \n",
      "3489400           0.0          0           0.0          0                0   \n",
      "3650171           0.0          0           0.0          0                0   \n",
      "\n",
      "        walkDistance  weaponsAcquired  winPoints  winPlacePerc  \n",
      "2867857        260.3                2          0        0.0800  \n",
      "3489400       3486.0                3       1458        0.9000  \n",
      "3650171        521.6                2          0        0.1957  \n",
      "\n",
      "[3 rows x 30 columns]\n"
     ]
    }
   ],
   "source": [
    "print(df.head(3))"
   ]
  },
  {
   "cell_type": "code",
   "execution_count": 5,
   "metadata": {},
   "outputs": [],
   "source": [
    "in_match_player_features = ['assists','boosts','damageDealt','DBNOs','headshotKills',\n",
    "                           'killPlace','kills','killStreaks','longestKill',\n",
    "                           'revives','rideDistance','roadKills','roadKills',\n",
    "                            'swimDistance','teamKills','vehicleDestroys','walkDistance',\n",
    "                            'weaponsAcquired']\n",
    "\n",
    "prediction_feature = ['winPlacePerc']\n",
    "\n",
    "global_player_features = ['killPoints','winPoints','rankPoints']\n",
    "\n",
    "match_features = ['groupId','matchId','matchDuration']"
   ]
  },
  {
   "cell_type": "markdown",
   "metadata": {},
   "source": [
    "#### vehicleDestroys, teamKills and roadKills are irrelevant for prediction duo to their distribution (99% with 0 value)"
   ]
  },
  {
   "cell_type": "code",
   "execution_count": 6,
   "metadata": {},
   "outputs": [],
   "source": [
    "in_match_player_features = [x for x in in_match_player_features if x not in ['roadKills','teamKills','vehicleDestroys']]"
   ]
  },
  {
   "cell_type": "code",
   "execution_count": 7,
   "metadata": {},
   "outputs": [
    {
     "data": {
      "text/plain": [
       "['assists',\n",
       " 'boosts',\n",
       " 'damageDealt',\n",
       " 'DBNOs',\n",
       " 'headshotKills',\n",
       " 'killPlace',\n",
       " 'kills',\n",
       " 'killStreaks',\n",
       " 'longestKill',\n",
       " 'revives',\n",
       " 'rideDistance',\n",
       " 'swimDistance',\n",
       " 'walkDistance',\n",
       " 'weaponsAcquired']"
      ]
     },
     "execution_count": 7,
     "metadata": {},
     "output_type": "execute_result"
    }
   ],
   "source": [
    "in_match_player_features"
   ]
  },
  {
   "cell_type": "markdown",
   "metadata": {},
   "source": [
    "### Data Correlation"
   ]
  },
  {
   "cell_type": "code",
   "execution_count": 31,
   "metadata": {
    "_uuid": "6f6240ebf0e8e6632a9acfc8f4abbc0a966394fe"
   },
   "outputs": [
    {
     "data": {
      "image/png": "[encoded data removed]",
      "text/plain": [
       "<Figure size 1080x1080 with 2 Axes>"
      ]
     },
     "metadata": {
      "needs_background": "light"
     },
     "output_type": "display_data"
    }
   ],
   "source": [
    "f,ax = plt.subplots(figsize=(15, 15))\n",
    "sns.heatmap(df[in_match_player_features+prediction_feature].corr(), annot=True, linewidths=.5, fmt= '.1f',ax=ax)\n",
    "plt.show()"
   ]
  },
  {
   "cell_type": "markdown",
   "metadata": {},
   "source": [
    "#### Feature of game mode (solo, duo, squad)"
   ]
  },
  {
   "cell_type": "code",
   "execution_count": 8,
   "metadata": {},
   "outputs": [],
   "source": [
    "df['GameMode'] = np.where(df['numGroups']>50,'Solo',np.where((df['numGroups']>25) & (df['numGroups']<=50),'Duo','Squad'))"
   ]
  },
  {
   "cell_type": "code",
   "execution_count": 9,
   "metadata": {},
   "outputs": [
    {
     "data": {
      "text/html": [
       "<div>\n",
       "<style scoped>\n",
       "    .dataframe tbody tr th:only-of-type {\n",
       "        vertical-align: middle;\n",
       "    }\n",
       "\n",
       "    .dataframe tbody tr th {\n",
       "        vertical-align: top;\n",
       "    }\n",
       "\n",
       "    .dataframe thead th {\n",
       "        text-align: right;\n",
       "    }\n",
       "</style>\n",
       "<table border=\"1\" class=\"dataframe\">\n",
       "  <thead>\n",
       "    <tr style=\"text-align: right;\">\n",
       "      <th></th>\n",
       "      <th>Unnamed: 0</th>\n",
       "      <th>Id</th>\n",
       "      <th>groupId</th>\n",
       "      <th>matchId</th>\n",
       "      <th>assists</th>\n",
       "      <th>boosts</th>\n",
       "      <th>damageDealt</th>\n",
       "      <th>DBNOs</th>\n",
       "      <th>headshotKills</th>\n",
       "      <th>heals</th>\n",
       "      <th>...</th>\n",
       "      <th>rideDistance</th>\n",
       "      <th>roadKills</th>\n",
       "      <th>swimDistance</th>\n",
       "      <th>teamKills</th>\n",
       "      <th>vehicleDestroys</th>\n",
       "      <th>walkDistance</th>\n",
       "      <th>weaponsAcquired</th>\n",
       "      <th>winPoints</th>\n",
       "      <th>winPlacePerc</th>\n",
       "      <th>GameMode</th>\n",
       "    </tr>\n",
       "  </thead>\n",
       "  <tbody>\n",
       "    <tr>\n",
       "      <th>2867857</th>\n",
       "      <td>3479201</td>\n",
       "      <td>f64435fb85e1df</td>\n",
       "      <td>7d14c71e043e19</td>\n",
       "      <td>67282b1619dc8a</td>\n",
       "      <td>0</td>\n",
       "      <td>0</td>\n",
       "      <td>0.0</td>\n",
       "      <td>0</td>\n",
       "      <td>0</td>\n",
       "      <td>0</td>\n",
       "      <td>...</td>\n",
       "      <td>0.0</td>\n",
       "      <td>0</td>\n",
       "      <td>0.0</td>\n",
       "      <td>0</td>\n",
       "      <td>0</td>\n",
       "      <td>260.3</td>\n",
       "      <td>2</td>\n",
       "      <td>0</td>\n",
       "      <td>0.0800</td>\n",
       "      <td>Squad</td>\n",
       "    </tr>\n",
       "    <tr>\n",
       "      <th>3489400</th>\n",
       "      <td>4233136</td>\n",
       "      <td>c69b27fa72e9c6</td>\n",
       "      <td>8ec148ff507e29</td>\n",
       "      <td>bad2de029dd8bf</td>\n",
       "      <td>1</td>\n",
       "      <td>3</td>\n",
       "      <td>121.0</td>\n",
       "      <td>0</td>\n",
       "      <td>0</td>\n",
       "      <td>2</td>\n",
       "      <td>...</td>\n",
       "      <td>0.0</td>\n",
       "      <td>0</td>\n",
       "      <td>0.0</td>\n",
       "      <td>0</td>\n",
       "      <td>0</td>\n",
       "      <td>3486.0</td>\n",
       "      <td>3</td>\n",
       "      <td>1458</td>\n",
       "      <td>0.9000</td>\n",
       "      <td>Duo</td>\n",
       "    </tr>\n",
       "    <tr>\n",
       "      <th>3650171</th>\n",
       "      <td>4428209</td>\n",
       "      <td>ccb6a3469cc639</td>\n",
       "      <td>9cee7d0108bb45</td>\n",
       "      <td>8d827ca495917a</td>\n",
       "      <td>0</td>\n",
       "      <td>0</td>\n",
       "      <td>38.7</td>\n",
       "      <td>0</td>\n",
       "      <td>0</td>\n",
       "      <td>0</td>\n",
       "      <td>...</td>\n",
       "      <td>0.0</td>\n",
       "      <td>0</td>\n",
       "      <td>0.0</td>\n",
       "      <td>0</td>\n",
       "      <td>0</td>\n",
       "      <td>521.6</td>\n",
       "      <td>2</td>\n",
       "      <td>0</td>\n",
       "      <td>0.1957</td>\n",
       "      <td>Duo</td>\n",
       "    </tr>\n",
       "  </tbody>\n",
       "</table>\n",
       "<p>3 rows × 31 columns</p>\n",
       "</div>"
      ],
      "text/plain": [
       "         Unnamed: 0              Id         groupId         matchId  assists  \\\n",
       "2867857     3479201  f64435fb85e1df  7d14c71e043e19  67282b1619dc8a        0   \n",
       "3489400     4233136  c69b27fa72e9c6  8ec148ff507e29  bad2de029dd8bf        1   \n",
       "3650171     4428209  ccb6a3469cc639  9cee7d0108bb45  8d827ca495917a        0   \n",
       "\n",
       "         boosts  damageDealt  DBNOs  headshotKills  heals  ...  rideDistance  \\\n",
       "2867857       0          0.0      0              0      0  ...           0.0   \n",
       "3489400       3        121.0      0              0      2  ...           0.0   \n",
       "3650171       0         38.7      0              0      0  ...           0.0   \n",
       "\n",
       "         roadKills  swimDistance  teamKills  vehicleDestroys  walkDistance  \\\n",
       "2867857          0           0.0          0                0         260.3   \n",
       "3489400          0           0.0          0                0        3486.0   \n",
       "3650171          0           0.0          0                0         521.6   \n",
       "\n",
       "        weaponsAcquired  winPoints  winPlacePerc  GameMode  \n",
       "2867857               2          0        0.0800     Squad  \n",
       "3489400               3       1458        0.9000       Duo  \n",
       "3650171               2          0        0.1957       Duo  \n",
       "\n",
       "[3 rows x 31 columns]"
      ]
     },
     "execution_count": 9,
     "metadata": {},
     "output_type": "execute_result"
    }
   ],
   "source": [
    "df.head(3)"
   ]
  },
  {
   "cell_type": "code",
   "execution_count": 10,
   "metadata": {},
   "outputs": [],
   "source": [
    "new_columns = pd.get_dummies(df[['GameMode']], prefix_sep='_')"
   ]
  },
  {
   "cell_type": "code",
   "execution_count": 11,
   "metadata": {},
   "outputs": [
    {
     "data": {
      "text/html": [
       "<div>\n",
       "<style scoped>\n",
       "    .dataframe tbody tr th:only-of-type {\n",
       "        vertical-align: middle;\n",
       "    }\n",
       "\n",
       "    .dataframe tbody tr th {\n",
       "        vertical-align: top;\n",
       "    }\n",
       "\n",
       "    .dataframe thead th {\n",
       "        text-align: right;\n",
       "    }\n",
       "</style>\n",
       "<table border=\"1\" class=\"dataframe\">\n",
       "  <thead>\n",
       "    <tr style=\"text-align: right;\">\n",
       "      <th></th>\n",
       "      <th>GameMode_Duo</th>\n",
       "      <th>GameMode_Solo</th>\n",
       "      <th>GameMode_Squad</th>\n",
       "    </tr>\n",
       "  </thead>\n",
       "  <tbody>\n",
       "    <tr>\n",
       "      <th>2867857</th>\n",
       "      <td>0</td>\n",
       "      <td>0</td>\n",
       "      <td>1</td>\n",
       "    </tr>\n",
       "    <tr>\n",
       "      <th>3489400</th>\n",
       "      <td>1</td>\n",
       "      <td>0</td>\n",
       "      <td>0</td>\n",
       "    </tr>\n",
       "    <tr>\n",
       "      <th>3650171</th>\n",
       "      <td>1</td>\n",
       "      <td>0</td>\n",
       "      <td>0</td>\n",
       "    </tr>\n",
       "  </tbody>\n",
       "</table>\n",
       "</div>"
      ],
      "text/plain": [
       "         GameMode_Duo  GameMode_Solo  GameMode_Squad\n",
       "2867857             0              0               1\n",
       "3489400             1              0               0\n",
       "3650171             1              0               0"
      ]
     },
     "execution_count": 11,
     "metadata": {},
     "output_type": "execute_result"
    }
   ],
   "source": [
    "new_columns.head(3)"
   ]
  },
  {
   "cell_type": "code",
   "execution_count": 12,
   "metadata": {},
   "outputs": [],
   "source": [
    "df = pd.concat([df,new_columns],axis=1)"
   ]
  },
  {
   "cell_type": "code",
   "execution_count": 13,
   "metadata": {},
   "outputs": [
    {
     "data": {
      "text/html": [
       "<div>\n",
       "<style scoped>\n",
       "    .dataframe tbody tr th:only-of-type {\n",
       "        vertical-align: middle;\n",
       "    }\n",
       "\n",
       "    .dataframe tbody tr th {\n",
       "        vertical-align: top;\n",
       "    }\n",
       "\n",
       "    .dataframe thead th {\n",
       "        text-align: right;\n",
       "    }\n",
       "</style>\n",
       "<table border=\"1\" class=\"dataframe\">\n",
       "  <thead>\n",
       "    <tr style=\"text-align: right;\">\n",
       "      <th></th>\n",
       "      <th>Unnamed: 0</th>\n",
       "      <th>Id</th>\n",
       "      <th>groupId</th>\n",
       "      <th>matchId</th>\n",
       "      <th>assists</th>\n",
       "      <th>boosts</th>\n",
       "      <th>damageDealt</th>\n",
       "      <th>DBNOs</th>\n",
       "      <th>headshotKills</th>\n",
       "      <th>heals</th>\n",
       "      <th>...</th>\n",
       "      <th>swimDistance</th>\n",
       "      <th>teamKills</th>\n",
       "      <th>vehicleDestroys</th>\n",
       "      <th>walkDistance</th>\n",
       "      <th>weaponsAcquired</th>\n",
       "      <th>winPoints</th>\n",
       "      <th>winPlacePerc</th>\n",
       "      <th>GameMode_Duo</th>\n",
       "      <th>GameMode_Solo</th>\n",
       "      <th>GameMode_Squad</th>\n",
       "    </tr>\n",
       "  </thead>\n",
       "  <tbody>\n",
       "    <tr>\n",
       "      <th>2867857</th>\n",
       "      <td>3479201</td>\n",
       "      <td>f64435fb85e1df</td>\n",
       "      <td>7d14c71e043e19</td>\n",
       "      <td>67282b1619dc8a</td>\n",
       "      <td>0</td>\n",
       "      <td>0</td>\n",
       "      <td>0.0</td>\n",
       "      <td>0</td>\n",
       "      <td>0</td>\n",
       "      <td>0</td>\n",
       "      <td>...</td>\n",
       "      <td>0.0</td>\n",
       "      <td>0</td>\n",
       "      <td>0</td>\n",
       "      <td>260.3</td>\n",
       "      <td>2</td>\n",
       "      <td>0</td>\n",
       "      <td>0.0800</td>\n",
       "      <td>0</td>\n",
       "      <td>0</td>\n",
       "      <td>1</td>\n",
       "    </tr>\n",
       "    <tr>\n",
       "      <th>3489400</th>\n",
       "      <td>4233136</td>\n",
       "      <td>c69b27fa72e9c6</td>\n",
       "      <td>8ec148ff507e29</td>\n",
       "      <td>bad2de029dd8bf</td>\n",
       "      <td>1</td>\n",
       "      <td>3</td>\n",
       "      <td>121.0</td>\n",
       "      <td>0</td>\n",
       "      <td>0</td>\n",
       "      <td>2</td>\n",
       "      <td>...</td>\n",
       "      <td>0.0</td>\n",
       "      <td>0</td>\n",
       "      <td>0</td>\n",
       "      <td>3486.0</td>\n",
       "      <td>3</td>\n",
       "      <td>1458</td>\n",
       "      <td>0.9000</td>\n",
       "      <td>1</td>\n",
       "      <td>0</td>\n",
       "      <td>0</td>\n",
       "    </tr>\n",
       "    <tr>\n",
       "      <th>3650171</th>\n",
       "      <td>4428209</td>\n",
       "      <td>ccb6a3469cc639</td>\n",
       "      <td>9cee7d0108bb45</td>\n",
       "      <td>8d827ca495917a</td>\n",
       "      <td>0</td>\n",
       "      <td>0</td>\n",
       "      <td>38.7</td>\n",
       "      <td>0</td>\n",
       "      <td>0</td>\n",
       "      <td>0</td>\n",
       "      <td>...</td>\n",
       "      <td>0.0</td>\n",
       "      <td>0</td>\n",
       "      <td>0</td>\n",
       "      <td>521.6</td>\n",
       "      <td>2</td>\n",
       "      <td>0</td>\n",
       "      <td>0.1957</td>\n",
       "      <td>1</td>\n",
       "      <td>0</td>\n",
       "      <td>0</td>\n",
       "    </tr>\n",
       "  </tbody>\n",
       "</table>\n",
       "<p>3 rows × 33 columns</p>\n",
       "</div>"
      ],
      "text/plain": [
       "         Unnamed: 0              Id         groupId         matchId  assists  \\\n",
       "2867857     3479201  f64435fb85e1df  7d14c71e043e19  67282b1619dc8a        0   \n",
       "3489400     4233136  c69b27fa72e9c6  8ec148ff507e29  bad2de029dd8bf        1   \n",
       "3650171     4428209  ccb6a3469cc639  9cee7d0108bb45  8d827ca495917a        0   \n",
       "\n",
       "         boosts  damageDealt  DBNOs  headshotKills  heals  ...  swimDistance  \\\n",
       "2867857       0          0.0      0              0      0  ...           0.0   \n",
       "3489400       3        121.0      0              0      2  ...           0.0   \n",
       "3650171       0         38.7      0              0      0  ...           0.0   \n",
       "\n",
       "         teamKills  vehicleDestroys  walkDistance  weaponsAcquired  winPoints  \\\n",
       "2867857          0                0         260.3                2          0   \n",
       "3489400          0                0        3486.0                3       1458   \n",
       "3650171          0                0         521.6                2          0   \n",
       "\n",
       "        winPlacePerc  GameMode_Duo  GameMode_Solo  GameMode_Squad  \n",
       "2867857       0.0800             0              0               1  \n",
       "3489400       0.9000             1              0               0  \n",
       "3650171       0.1957             1              0               0  \n",
       "\n",
       "[3 rows x 33 columns]"
      ]
     },
     "execution_count": 13,
     "metadata": {},
     "output_type": "execute_result"
    }
   ],
   "source": [
    "df.drop(['GameMode'],inplace=True,axis=1)\n",
    "df.head(3)"
   ]
  },
  {
   "cell_type": "code",
   "execution_count": 14,
   "metadata": {},
   "outputs": [],
   "source": [
    "in_match_player_features = in_match_player_features+['GameMode_Duo','GameMode_Solo','GameMode_Squad']"
   ]
  },
  {
   "cell_type": "code",
   "execution_count": 16,
   "metadata": {},
   "outputs": [
    {
     "data": {
      "text/plain": [
       "['assists',\n",
       " 'boosts',\n",
       " 'damageDealt',\n",
       " 'DBNOs',\n",
       " 'headshotKills',\n",
       " 'killPlace',\n",
       " 'kills',\n",
       " 'killStreaks',\n",
       " 'longestKill',\n",
       " 'revives',\n",
       " 'rideDistance',\n",
       " 'swimDistance',\n",
       " 'walkDistance',\n",
       " 'weaponsAcquired',\n",
       " 'GameMode_Duo',\n",
       " 'GameMode_Solo',\n",
       " 'GameMode_Squad']"
      ]
     },
     "execution_count": 16,
     "metadata": {},
     "output_type": "execute_result"
    }
   ],
   "source": [
    "in_match_player_features"
   ]
  },
  {
   "cell_type": "code",
   "execution_count": 17,
   "metadata": {},
   "outputs": [],
   "source": [
    "general_result_array = {}"
   ]
  },
  {
   "cell_type": "markdown",
   "metadata": {},
   "source": [
    "#### Linear Regression - no polynomial"
   ]
  },
  {
   "cell_type": "code",
   "execution_count": 18,
   "metadata": {},
   "outputs": [
    {
     "name": "stdout",
     "output_type": "stream",
     "text": [
      "[fold 0] RMSE 0.01493 R2: 0.81751\n",
      "[fold 1] RMSE 0.01487 R2: 0.81820\n",
      "[fold 2] RMSE 0.01490 R2: 0.81800\n",
      "[fold 3] RMSE 0.01479 R2: 0.81832\n",
      "[fold 4] RMSE 0.01492 R2: 0.81736\n",
      "[fold 5] RMSE 0.01472 R2: 0.81964\n",
      "[fold 6] RMSE 0.01487 R2: 0.81710\n",
      "[fold 7] RMSE 0.01478 R2: 0.81865\n",
      "[fold 8] RMSE 0.01497 R2: 0.81643\n",
      "[fold 9] RMSE 0.01465 R2: 0.82008\n",
      "Time spent: 0.08958187898000082\n"
     ]
    }
   ],
   "source": [
    "kf = KFold(n_splits=10)\n",
    "\n",
    "X = df[in_match_player_features] \n",
    "y = df[prediction_feature]\n",
    "\n",
    "results_linear = {}\n",
    "\n",
    "rmse_ = []\n",
    "r2_ = []\n",
    "\n",
    "start = time.time()\n",
    "for k, (train, test) in enumerate(kf.split(X, y)):\n",
    "    reg = LinearRegression(n_jobs=6)\n",
    "#     print(X.iloc[train].head(2))\n",
    "    reg.fit(X.iloc[train], y.iloc[train])\n",
    "    \n",
    "    y_pred = reg.predict(X.iloc[test])\n",
    "    y_true =  y.iloc[test]\n",
    "    rmse = mean_squared_error(y_true, y_pred)\n",
    "    r2 = reg.score(X.iloc[test], y.iloc[test])\n",
    "    rmse_.append(rmse)\n",
    "    r2_.append(r2)\n",
    "    \n",
    "    print(\"[fold {0}] RMSE {1:.5f} R2: {2:.5f}\".\n",
    "          format(k,rmse,r2))\n",
    "    \n",
    "end = time.time()\n",
    "elapsed_time = (end-start)/60\n",
    "print('Time spent: {0}'.format(elapsed_time))\n",
    "general_result_array['linear'] = {'rmse':rmse_,'r2':r2_,'time':elapsed_time}\n"
   ]
  },
  {
   "cell_type": "markdown",
   "metadata": {},
   "source": [
    "#### Linear Regression - polynomial 2"
   ]
  },
  {
   "cell_type": "code",
   "execution_count": 37,
   "metadata": {},
   "outputs": [
    {
     "name": "stdout",
     "output_type": "stream",
     "text": [
      "[fold 0] RMSE 0.01026 R2: 0.87461\n",
      "[fold 1] RMSE 0.01017 R2: 0.87565\n",
      "[fold 2] RMSE 0.01022 R2: 0.87517\n",
      "[fold 3] RMSE 0.01022 R2: 0.87445\n",
      "[fold 4] RMSE 0.01017 R2: 0.87556\n",
      "[fold 5] RMSE 0.01009 R2: 0.87632\n",
      "[fold 6] RMSE 0.01018 R2: 0.87483\n",
      "[fold 7] RMSE 0.01007 R2: 0.87650\n",
      "[fold 8] RMSE 0.01035 R2: 0.87307\n",
      "[fold 9] RMSE 0.01008 R2: 0.87628\n",
      "Time spent: 2.3620086908340454\n"
     ]
    }
   ],
   "source": [
    "kf = KFold(n_splits=10)\n",
    "\n",
    "X = df[in_match_player_features] \n",
    "y = df[prediction_feature]\n",
    "\n",
    "r2_ = []\n",
    "rmse_ = []\n",
    "\n",
    "start = time.time()\n",
    "for k, (train, test) in enumerate(kf.split(X, y)):\n",
    "    reg = make_pipeline(PolynomialFeatures(2), LinearRegression(n_jobs=6))\n",
    "#     print(X.iloc[train].head(2))\n",
    "    reg.fit(X.iloc[train], y.iloc[train])\n",
    "    \n",
    "    y_pred = reg.predict(X.iloc[test])\n",
    "    y_true =  y.iloc[test]\n",
    "    rmse = mean_squared_error(y_true, y_pred)\n",
    "    r2 = reg.score(X.iloc[test], y.iloc[test])\n",
    "    \n",
    "    rmse_.append(rmse)\n",
    "    r2_.append(r2)\n",
    "    \n",
    "    print(\"[fold {0}] RMSE {1:.5f} R2: {2:.5f}\".\n",
    "          format(k,rmse,r2))\n",
    "    \n",
    "end = time.time()\n",
    "elapsed_time = (end-start)/60\n",
    "print('Time spent: {0}'.format(elapsed_time))\n",
    "general_result_array['polinomial'] = {'rmse':rmse_,'r2':r2_,'time':elapsed_time}"
   ]
  },
  {
   "cell_type": "markdown",
   "metadata": {},
   "source": [
    "### Neural Networks - 20 neurons at intermediate layer"
   ]
  },
  {
   "cell_type": "code",
   "execution_count": 38,
   "metadata": {},
   "outputs": [
    {
     "name": "stdout",
     "output_type": "stream",
     "text": [
      "[fold 0] RMSE 0.00914 R2: 0.88822\n",
      "[fold 1] RMSE 0.00924 R2: 0.88700\n",
      "[fold 2] RMSE 0.00916 R2: 0.88819\n",
      "[fold 3] RMSE 0.00912 R2: 0.88801\n",
      "[fold 4] RMSE 0.00907 R2: 0.88906\n",
      "[fold 5] RMSE 0.00903 R2: 0.88934\n",
      "[fold 6] RMSE 0.00931 R2: 0.88557\n",
      "[fold 7] RMSE 0.00914 R2: 0.88788\n",
      "[fold 8] RMSE 0.00908 R2: 0.88870\n",
      "[fold 9] RMSE 0.00894 R2: 0.89023\n",
      "Time spent: 2.9859612623850507\n"
     ]
    }
   ],
   "source": [
    "kf = KFold(n_splits=10)\n",
    "\n",
    "X = df[in_match_player_features] \n",
    "y = df[prediction_feature]\n",
    "\n",
    "results_pol2 = {}\n",
    "\n",
    "r2_ = []\n",
    "rmse_ = []\n",
    "\n",
    "start = time.time()\n",
    "for k, (train, test) in enumerate(kf.split(X, y)):\n",
    "    reg = make_pipeline(StandardScaler(), MLPRegressor(hidden_layer_sizes=(20,)))\n",
    "    #     print(X.iloc[train].head(2))\n",
    "    reg.fit(X.iloc[train], y.iloc[train])\n",
    "    \n",
    "    y_pred = reg.predict(X.iloc[test])\n",
    "    y_true =  y.iloc[test]\n",
    "    rmse = mean_squared_error(y_true, y_pred)\n",
    "    r2 = reg.score(X.iloc[test], y.iloc[test])\n",
    "    \n",
    "    rmse_.append(rmse)\n",
    "    r2_.append(r2)\n",
    "    \n",
    "    print(\"[fold {0}] RMSE {1:.5f} R2: {2:.5f}\".\n",
    "          format(k,rmse,r2))\n",
    "    \n",
    "end = time.time()\n",
    "elapsed_time = (end-start)/60\n",
    "print('Time spent: {0}'.format(elapsed_time))\n",
    "general_result_array['rnn_20'] = {'rmse':rmse_,'r2':r2_,'time':elapsed_time}"
   ]
  },
  {
   "cell_type": "markdown",
   "metadata": {},
   "source": [
    "### Neural Networks - 10 neurons at intermediate layer"
   ]
  },
  {
   "cell_type": "code",
   "execution_count": 21,
   "metadata": {},
   "outputs": [
    {
     "name": "stdout",
     "output_type": "stream",
     "text": [
      "[fold 0] RMSE 0.00950 R2: 0.88381\n",
      "[fold 1] RMSE 0.00959 R2: 0.88278\n",
      "[fold 2] RMSE 0.00952 R2: 0.88371\n",
      "[fold 3] RMSE 0.00960 R2: 0.88207\n",
      "[fold 4] RMSE 0.00966 R2: 0.88174\n",
      "[fold 5] RMSE 0.00941 R2: 0.88472\n",
      "[fold 6] RMSE 0.00942 R2: 0.88413\n",
      "[fold 7] RMSE 0.00942 R2: 0.88438\n",
      "[fold 8] RMSE 0.00958 R2: 0.88249\n",
      "[fold 9] RMSE 0.00934 R2: 0.88532\n",
      "Time spent: 2.5794682184855144\n"
     ]
    }
   ],
   "source": [
    "kf = KFold(n_splits=10)\n",
    "\n",
    "X = df[in_match_player_features] \n",
    "y = df[prediction_feature]\n",
    "\n",
    "r2_ = []\n",
    "rmse_ = []\n",
    "\n",
    "start = time.time()\n",
    "for k, (train, test) in enumerate(kf.split(X, y)):\n",
    "    reg = make_pipeline(StandardScaler(), MLPRegressor(hidden_layer_sizes=(10,)))\n",
    "    #     print(X.iloc[train].head(2))\n",
    "    reg.fit(X.iloc[train], y.iloc[train])\n",
    "    \n",
    "    y_pred = reg.predict(X.iloc[test])\n",
    "    y_true =  y.iloc[test]\n",
    "    rmse = mean_squared_error(y_true, y_pred)\n",
    "    r2 = reg.score(X.iloc[test], y.iloc[test])\n",
    "    \n",
    "    rmse_.append(rmse)\n",
    "    r2_.append(r2)\n",
    "    \n",
    "    print(\"[fold {0}] RMSE {1:.5f} R2: {2:.5f}\".\n",
    "          format(k,rmse,r2))\n",
    "    \n",
    "end = time.time()\n",
    "elapsed_time = (end-start)/60\n",
    "print('Time spent: {0}'.format(elapsed_time))\n",
    "general_result_array['rnn_10'] = {'rmse':rmse_,'r2':r2_,'time':elapsed_time}"
   ]
  },
  {
   "cell_type": "markdown",
   "metadata": {},
   "source": [
    "### Neural Networks - 5 neurons at intermediate layer"
   ]
  },
  {
   "cell_type": "code",
   "execution_count": 22,
   "metadata": {},
   "outputs": [
    {
     "name": "stdout",
     "output_type": "stream",
     "text": [
      "[fold 0] RMSE 0.01199 R2: 0.85342\n",
      "[fold 1] RMSE 0.00976 R2: 0.88066\n",
      "[fold 2] RMSE 0.00965 R2: 0.88212\n",
      "[fold 3] RMSE 0.01016 R2: 0.87513\n",
      "[fold 4] RMSE 0.01013 R2: 0.87608\n",
      "[fold 5] RMSE 0.00963 R2: 0.88205\n",
      "[fold 6] RMSE 0.01161 R2: 0.85718\n",
      "[fold 7] RMSE 0.01074 R2: 0.86824\n",
      "[fold 8] RMSE 0.01064 R2: 0.86952\n",
      "[fold 9] RMSE 0.01013 R2: 0.87557\n",
      "Time spent: 2.588517653942108\n"
     ]
    }
   ],
   "source": [
    "kf = KFold(n_splits=10)\n",
    "\n",
    "X = df[in_match_player_features] \n",
    "y = df[prediction_feature]\n",
    "\n",
    "results_pol2 = {}\n",
    "r2_ = []\n",
    "rmse_ = []\n",
    "\n",
    "start = time.time()\n",
    "for k, (train, test) in enumerate(kf.split(X, y)):\n",
    "    reg = make_pipeline(StandardScaler(), MLPRegressor(hidden_layer_sizes=(5,)))\n",
    "    #     print(X.iloc[train].head(2))\n",
    "    reg.fit(X.iloc[train], y.iloc[train])\n",
    "    \n",
    "    y_pred = reg.predict(X.iloc[test])\n",
    "    y_true =  y.iloc[test]\n",
    "    rmse = mean_squared_error(y_true, y_pred)\n",
    "    r2 = reg.score(X.iloc[test], y.iloc[test])\n",
    "    \n",
    "    rmse_.append(rmse)\n",
    "    r2_.append(r2)\n",
    "    \n",
    "    print(\"[fold {0}] RMSE {1:.5f} R2: {2:.5f}\".\n",
    "          format(k,rmse,r2))\n",
    "    \n",
    "end = time.time()\n",
    "elapsed_time = (end-start)/60    \n",
    "print('Time spent: {0}'.format(elapsed_time))\n",
    "general_result_array['rnn_5'] = {'rmse':rmse_,'r2':r2_,'time':elapsed_time}"
   ]
  },
  {
   "cell_type": "markdown",
   "metadata": {},
   "source": [
    "### Neural Networks - 2 neurons at intermediate layer"
   ]
  },
  {
   "cell_type": "code",
   "execution_count": 23,
   "metadata": {},
   "outputs": [
    {
     "name": "stdout",
     "output_type": "stream",
     "text": [
      "[fold 0] RMSE 0.01115 R2: 0.86375\n",
      "[fold 1] RMSE 0.02297 R2: 0.71916\n",
      "[fold 2] RMSE 0.01282 R2: 0.84343\n",
      "[fold 3] RMSE 0.01280 R2: 0.84272\n",
      "[fold 4] RMSE 0.01960 R2: 0.76019\n",
      "[fold 5] RMSE 0.01267 R2: 0.84474\n",
      "[fold 6] RMSE 0.01290 R2: 0.84136\n",
      "[fold 7] RMSE 0.01225 R2: 0.84973\n",
      "[fold 8] RMSE 0.01308 R2: 0.83955\n",
      "[fold 9] RMSE 0.01381 R2: 0.83046\n",
      "Time spent: 2.2235026677449543\n"
     ]
    }
   ],
   "source": [
    "kf = KFold(n_splits=10)\n",
    "\n",
    "X = df[in_match_player_features] \n",
    "y = df[prediction_feature]\n",
    "\n",
    "\n",
    "r2_ = []\n",
    "rmse_ = []\n",
    "\n",
    "start = time.time()\n",
    "for k, (train, test) in enumerate(kf.split(X, y)):\n",
    "    reg = make_pipeline(StandardScaler(), MLPRegressor(hidden_layer_sizes=(2,)))\n",
    "    #     print(X.iloc[train].head(2))\n",
    "    reg.fit(X.iloc[train], y.iloc[train])\n",
    "    \n",
    "    y_pred = reg.predict(X.iloc[test])\n",
    "    y_true =  y.iloc[test]\n",
    "    rmse = mean_squared_error(y_true, y_pred)\n",
    "    r2 = reg.score(X.iloc[test], y.iloc[test])\n",
    "    \n",
    "    rmse_.append(rmse)\n",
    "    r2_.append(r2)\n",
    "    \n",
    "    print(\"[fold {0}] RMSE {1:.5f} R2: {2:.5f}\".\n",
    "          format(k,rmse,r2))\n",
    "    \n",
    "end = time.time()\n",
    "elapsed_time = (end-start)/60\n",
    "print('Time spent: {0}'.format(elapsed_time))\n",
    "general_result_array['rnn_2'] = {'rmse':rmse_,'r2':r2_,'time':elapsed_time}"
   ]
  },
  {
   "cell_type": "markdown",
   "metadata": {},
   "source": [
    "### Neural Networks - 10-5 structure layer"
   ]
  },
  {
   "cell_type": "code",
   "execution_count": 24,
   "metadata": {},
   "outputs": [
    {
     "name": "stdout",
     "output_type": "stream",
     "text": [
      "[fold 0] RMSE 0.00908 R2: 0.88895\n",
      "[fold 1] RMSE 0.00925 R2: 0.88688\n",
      "[fold 2] RMSE 0.00933 R2: 0.88604\n",
      "[fold 3] RMSE 0.00917 R2: 0.88731\n",
      "[fold 4] RMSE 0.00909 R2: 0.88871\n",
      "[fold 5] RMSE 0.00920 R2: 0.88722\n",
      "[fold 6] RMSE 0.00936 R2: 0.88496\n",
      "[fold 7] RMSE 0.00920 R2: 0.88711\n",
      "[fold 8] RMSE 0.00921 R2: 0.88710\n",
      "[fold 9] RMSE 0.00908 R2: 0.88846\n",
      "Time spent: 3.7662991722424826\n"
     ]
    }
   ],
   "source": [
    "kf = KFold(n_splits=10)\n",
    "\n",
    "X = df[in_match_player_features] \n",
    "y = df[prediction_feature]\n",
    "\n",
    "\n",
    "r2_ = []\n",
    "rmse_ = []\n",
    "\n",
    "start = time.time()\n",
    "for k, (train, test) in enumerate(kf.split(X, y)):\n",
    "    reg = make_pipeline(StandardScaler(), MLPRegressor(hidden_layer_sizes=(10,5,)))\n",
    "    #     print(X.iloc[train].head(2))\n",
    "    reg.fit(X.iloc[train], y.iloc[train])\n",
    "    \n",
    "    y_pred = reg.predict(X.iloc[test])\n",
    "    y_true =  y.iloc[test]\n",
    "    rmse = mean_squared_error(y_true, y_pred)\n",
    "    r2 = reg.score(X.iloc[test], y.iloc[test])\n",
    "    \n",
    "    rmse_.append(rmse)\n",
    "    r2_.append(r2)\n",
    "    \n",
    "    print(\"[fold {0}] RMSE {1:.5f} R2: {2:.5f}\".\n",
    "          format(k,rmse,r2))\n",
    "    \n",
    "end = time.time()\n",
    "elapsed_time = (end-start)/60\n",
    "print('Time spent: {0}'.format(elapsed_time))\n",
    "general_result_array['rnn_10_5'] = {'rmse':rmse_,'r2':r2_,'time':elapsed_time}"
   ]
  },
  {
   "cell_type": "markdown",
   "metadata": {},
   "source": [
    "### Neural Networks - 20-5 structure layer"
   ]
  },
  {
   "cell_type": "code",
   "execution_count": 25,
   "metadata": {},
   "outputs": [
    {
     "name": "stdout",
     "output_type": "stream",
     "text": [
      "[fold 0] RMSE 0.00908 R2: 0.88896\n",
      "[fold 1] RMSE 0.00902 R2: 0.88970\n",
      "[fold 2] RMSE 0.00903 R2: 0.88974\n",
      "[fold 3] RMSE 0.00903 R2: 0.88901\n",
      "[fold 4] RMSE 0.00893 R2: 0.89067\n",
      "[fold 5] RMSE 0.00891 R2: 0.89086\n",
      "[fold 6] RMSE 0.00901 R2: 0.88923\n",
      "[fold 7] RMSE 0.00900 R2: 0.88960\n",
      "[fold 8] RMSE 0.00909 R2: 0.88847\n",
      "[fold 9] RMSE 0.00894 R2: 0.89020\n",
      "Time spent: 3.9049857815106708\n"
     ]
    }
   ],
   "source": [
    "kf = KFold(n_splits=10)\n",
    "\n",
    "X = df[in_match_player_features] \n",
    "y = df[prediction_feature]\n",
    "\n",
    "results_pol2 = {}\n",
    "r2_ = []\n",
    "rmse_ = []\n",
    "\n",
    "start = time.time()\n",
    "for k, (train, test) in enumerate(kf.split(X, y)):\n",
    "    reg = make_pipeline(StandardScaler(), MLPRegressor(hidden_layer_sizes=(20,5,)))\n",
    "    #     print(X.iloc[train].head(2))\n",
    "    reg.fit(X.iloc[train], y.iloc[train])\n",
    "    \n",
    "    y_pred = reg.predict(X.iloc[test])\n",
    "    y_true =  y.iloc[test]\n",
    "    rmse = mean_squared_error(y_true, y_pred)\n",
    "    r2 = reg.score(X.iloc[test], y.iloc[test])\n",
    "    \n",
    "    rmse_.append(rmse)\n",
    "    r2_.append(r2)\n",
    "    \n",
    "    print(\"[fold {0}] RMSE {1:.5f} R2: {2:.5f}\".\n",
    "          format(k,rmse,r2))\n",
    "end = time.time()\n",
    "elapsed_time = (end-start)/60   \n",
    "print('Time spent: {0}'.format(elapsed_time))\n",
    "general_result_array['rnn_20_5'] = {'rmse':rmse_,'r2':r2_,'time':elapsed_time}"
   ]
  },
  {
   "cell_type": "markdown",
   "metadata": {},
   "source": [
    "### GradientBoosting - 100 arvores"
   ]
  },
  {
   "cell_type": "code",
   "execution_count": 26,
   "metadata": {},
   "outputs": [
    {
     "name": "stdout",
     "output_type": "stream",
     "text": [
      "[fold 0] RMSE 0.01009 R2: 0.87672\n",
      "[fold 1] RMSE 0.00999 R2: 0.87784\n",
      "[fold 2] RMSE 0.01013 R2: 0.87626\n",
      "[fold 3] RMSE 0.01008 R2: 0.87620\n",
      "[fold 4] RMSE 0.01010 R2: 0.87636\n",
      "[fold 5] RMSE 0.00991 R2: 0.87862\n",
      "[fold 6] RMSE 0.01019 R2: 0.87469\n",
      "[fold 7] RMSE 0.00996 R2: 0.87779\n",
      "[fold 8] RMSE 0.01023 R2: 0.87458\n",
      "[fold 9] RMSE 0.00987 R2: 0.87885\n",
      "Time spent: 14.67674792210261\n"
     ]
    }
   ],
   "source": [
    "kf = KFold(n_splits=10)\n",
    "\n",
    "X = df[in_match_player_features] \n",
    "y = df[prediction_feature]\n",
    "\n",
    "r2_ = []\n",
    "rmse_ = []\n",
    "\n",
    "start = time.time()\n",
    "for k, (train, test) in enumerate(kf.split(X, y)):\n",
    "    reg = make_pipeline(GradientBoostingRegressor(n_estimators=100))\n",
    "    #     print(X.iloc[train].head(2))\n",
    "    reg.fit(X.iloc[train], y.iloc[train])\n",
    "    \n",
    "    y_pred = reg.predict(X.iloc[test])\n",
    "    y_true =  y.iloc[test]\n",
    "    rmse = mean_squared_error(y_true, y_pred)\n",
    "    r2 = reg.score(X.iloc[test], y.iloc[test])\n",
    "    \n",
    "    rmse_.append(rmse)\n",
    "    r2_.append(r2)\n",
    "    \n",
    "    print(\"[fold {0}] RMSE {1:.5f} R2: {2:.5f}\".\n",
    "          format(k,rmse,r2))\n",
    "end = time.time()\n",
    "elapsed_time = (end-start)/60\n",
    "print('Time spent: {0}'.format(elapsed_time))\n",
    "general_result_array['gradientboosting'] = {'rmse':rmse_,'r2':r2_,'time':elapsed_time}"
   ]
  },
  {
   "cell_type": "markdown",
   "metadata": {},
   "source": [
    "### XGBoost - 100 arvores"
   ]
  },
  {
   "cell_type": "code",
   "execution_count": 27,
   "metadata": {},
   "outputs": [
    {
     "name": "stdout",
     "output_type": "stream",
     "text": [
      "[fold 0] RMSE 0.01009 R2: 0.87665\n",
      "[fold 1] RMSE 0.00999 R2: 0.87783\n",
      "[fold 2] RMSE 0.01016 R2: 0.87590\n",
      "[fold 3] RMSE 0.01008 R2: 0.87620\n",
      "[fold 4] RMSE 0.01004 R2: 0.87708\n",
      "[fold 5] RMSE 0.00991 R2: 0.87861\n",
      "[fold 6] RMSE 0.01019 R2: 0.87470\n",
      "[fold 7] RMSE 0.00996 R2: 0.87779\n",
      "[fold 8] RMSE 0.01023 R2: 0.87458\n",
      "[fold 9] RMSE 0.00990 R2: 0.87846\n",
      "Time spent: 10.196440267562867\n"
     ]
    }
   ],
   "source": [
    "kf = KFold(n_splits=10)\n",
    "\n",
    "X = df[in_match_player_features] \n",
    "y = df[prediction_feature]\n",
    "\n",
    "r2_ = []\n",
    "rmse_ = []\n",
    "\n",
    "start = time.time()\n",
    "for k, (train, test) in enumerate(kf.split(X, y)):\n",
    "    reg = xgb.XGBRegressor(n_estimators=100)\n",
    "    #     print(X.iloc[train].head(2))\n",
    "    reg.fit(X.iloc[train], y.iloc[train])\n",
    "    \n",
    "    y_pred = reg.predict(X.iloc[test])\n",
    "    y_true =  y.iloc[test]\n",
    "    rmse = mean_squared_error(y_true, y_pred)\n",
    "    r2 = reg.score(X.iloc[test], y.iloc[test])\n",
    "    \n",
    "    rmse_.append(rmse)\n",
    "    r2_.append(r2)\n",
    "    \n",
    "    print(\"[fold {0}] RMSE {1:.5f} R2: {2:.5f}\".\n",
    "          format(k,rmse,r2))\n",
    "end = time.time()\n",
    "elapsed_time = (end-start)/60  \n",
    "print('Time spent: {0}'.format(elapsed_time))\n",
    "general_result_array['xgboost'] = {'rmse':rmse_,'r2':r2_,'time':elapsed_time}"
   ]
  },
  {
   "cell_type": "markdown",
   "metadata": {},
   "source": [
    "### Results"
   ]
  },
  {
   "cell_type": "code",
   "execution_count": 39,
   "metadata": {},
   "outputs": [],
   "source": [
    "keys_rmse = {}\n",
    "# rmse_ = []\n",
    "keys_r2 = {}\n",
    "for key,value in general_result_array.items():\n",
    "    keys_rmse[key] = np.array(general_result_array[key]['rmse']).mean()\n",
    "    keys_r2[key] = np.array(general_result_array[key]['r2']).mean()"
   ]
  },
  {
   "cell_type": "code",
   "execution_count": 40,
   "metadata": {},
   "outputs": [],
   "source": [
    "keys_r2 = collections.OrderedDict(sorted(keys_r2.items(), key=lambda x: x[1]))\n",
    "keys_rmse_ordered_by_r2 = {}\n",
    "\n",
    "for key in keys_r2:\n",
    "    new_key = key.replace('rnn','r_nn_')\n",
    "    keys_rmse_ordered_by_r2[new_key] = keys_rmse[key]\n",
    "    "
   ]
  },
  {
   "cell_type": "code",
   "execution_count": 41,
   "metadata": {},
   "outputs": [
    {
     "data": {
      "image/png": "[encoded data removed]",
      "text/plain": [
       "<Figure size 1440x432 with 2 Axes>"
      ]
     },
     "metadata": {},
     "output_type": "display_data"
    }
   ],
   "source": [
    "fig, ax1 = plt.subplots(figsize=(20, 6))\n",
    "\n",
    "\n",
    "names = list(keys_rmse_ordered_by_r2.keys())\n",
    "values = list(keys_rmse_ordered_by_r2.values())\n",
    "values2 = list(keys_r2.values())\n",
    "\n",
    "\n",
    "# plt.show()\n",
    "\n",
    "color = 'grey'\n",
    "ax1.set_ylabel('RMSE', color=color)\n",
    "ax1.bar(range(len(names)),values,tick_label=names,color=color)\n",
    "ax1.tick_params(axis='y', labelcolor=color)\n",
    "\n",
    "ax2 = ax1.twinx()  # instantiate a second axes that shares the same x-axis\n",
    "\n",
    "color = 'blue'\n",
    "ax2.set_ylabel('R2', color=color)  # we already handled the x-label with ax1\n",
    "ax2.plot(names, values2, 'bo-',color=color)\n",
    "# ax2.scatter(names, values2, color=color)\n",
    "ax2.tick_params(axis='y', labelcolor=color)\n",
    "plt.yticks(np.arange(0.81, 0.90, 0.005))\n",
    "\n",
    "fig.tight_layout()  # otherwise the right y-label is slightly clipped\n",
    "plt.savefig(os.path.join('out','resultado_benchmark.png'))\n",
    "plt.show()\n"
   ]
  },
  {
   "cell_type": "code",
   "execution_count": 42,
   "metadata": {},
   "outputs": [],
   "source": [
    "import json\n",
    "\n",
    "output_path = os.path.join('out','general_result_array.json')\n",
    "with open(output_path, 'w') as outfile:\n",
    "    json.dump(general_result_array, outfile)"
   ]
  },
  {
   "cell_type": "code",
   "execution_count": null,
   "metadata": {},
   "outputs": [],
   "source": []
  }
 ],
 "metadata": {
  "kernelspec": {
   "display_name": "Python 3",
   "language": "python",
   "name": "python3"
  },
  "language_info": {
   "codemirror_mode": {
    "name": "ipython",
    "version": 3
   },
   "file_extension": ".py",
   "mimetype": "text/x-python",
   "name": "python",
   "nbconvert_exporter": "python",
   "pygments_lexer": "ipython3",
   "version": "3.7.3"
  }
 },
 "nbformat": 4,
 "nbformat_minor": 2
}
