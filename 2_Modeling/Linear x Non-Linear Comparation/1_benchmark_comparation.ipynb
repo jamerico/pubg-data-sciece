{
 "cells": [
  {
   "cell_type": "code",
   "execution_count": 1,
   "metadata": {},
   "outputs": [],
   "source": [
    "import numpy as np\n",
    "import pandas as pd\n",
    "import matplotlib.pyplot as plt\n",
    "import seaborn as sns \n",
    "from sklearn.linear_model import LinearRegression\n",
    "from sklearn.linear_model import Ridge\n",
    "from sklearn.preprocessing import PolynomialFeatures\n",
    "from sklearn.pipeline import make_pipeline, Pipeline\n",
    "from sklearn.preprocessing import OneHotEncoder\n",
    "from sklearn.model_selection import KFold\n",
    "from sklearn.metrics import mean_squared_error\n",
    "from sklearn.neural_network import MLPRegressor\n",
    "import collections\n",
    "\n",
    "from sklearn.ensemble  import GradientBoostingRegressor\n",
    "from sklearn.preprocessing import StandardScaler\n",
    "import xgboost as xgb\n",
    "import time \n",
    "import warnings\n",
    "import os\n",
    "warnings.filterwarnings(\"ignore\")"
   ]
  },
  {
   "cell_type": "code",
   "execution_count": 2,
   "metadata": {},
   "outputs": [],
   "source": [
    "data_path = os.path.join('..','..','1_Data','Cleaned Data','data_cleaned.csv')\n",
    "output_path = 'data'\n",
    "df = pd.read_csv(data_path)\n"
   ]
  },
  {
   "cell_type": "code",
   "execution_count": 183,
   "metadata": {},
   "outputs": [],
   "source": [
    "df = df.sample(1000000)"
   ]
  },
  {
   "cell_type": "code",
   "execution_count": 184,
   "metadata": {},
   "outputs": [
    {
     "name": "stdout",
     "output_type": "stream",
     "text": [
      "         Unnamed: 0              Id         groupId         matchId  assists  \\\n",
      "1674654     2031175  2ad1b40d3454b2  69b9eabed4bc8c  736b61d2dc9a75        0   \n",
      "608744       738975  b25b255f0eafbd  05e127f065cd64  3c79a8391f8253        0   \n",
      "243921       295603  fac2dde2370424  49ee2fecb19c4a  acf242954fbd7a        0   \n",
      "\n",
      "         boosts  damageDealt  DBNOs  headshotKills  heals  ...  revives  \\\n",
      "1674654       1        40.13      0              0      1  ...        0   \n",
      "608744        4       214.60      1              0      2  ...        0   \n",
      "243921        0        72.75      0              0      1  ...        0   \n",
      "\n",
      "         rideDistance  roadKills  swimDistance  teamKills  vehicleDestroys  \\\n",
      "1674654         181.5          0           0.0          0                0   \n",
      "608744         2471.0          0           0.0          0                0   \n",
      "243921            0.0          0           0.0          0                0   \n",
      "\n",
      "        walkDistance  weaponsAcquired  winPoints  winPlacePerc  \n",
      "1674654       1347.0                3          0        0.6458  \n",
      "608744        1534.0                9       1551        0.6444  \n",
      "243921         634.8                4          0        0.2069  \n",
      "\n",
      "[3 rows x 30 columns]\n"
     ]
    }
   ],
   "source": [
    "print(df.head(3))"
   ]
  },
  {
   "cell_type": "code",
   "execution_count": 185,
   "metadata": {},
   "outputs": [],
   "source": [
    "in_match_player_features = ['assists','boosts','damageDealt','DBNOs','headshotKills',\n",
    "                           'killPlace','kills','killStreaks','longestKill',\n",
    "                           'revives','rideDistance','roadKills','roadKills',\n",
    "                            'swimDistance','teamKills','vehicleDestroys','walkDistance',\n",
    "                            'weaponsAcquired']\n",
    "\n",
    "prediction_feature = ['winPlacePerc']\n",
    "\n",
    "global_player_features = ['killPoints','winPoints','rankPoints']\n",
    "\n",
    "match_features = ['groupId','matchId','matchDuration']"
   ]
  },
  {
   "cell_type": "markdown",
   "metadata": {},
   "source": [
    "#### vehicleDestroys, teamKills and roadKills are irrelevant for prediction duo to their distribution (99% with 0 value)"
   ]
  },
  {
   "cell_type": "code",
   "execution_count": 186,
   "metadata": {},
   "outputs": [],
   "source": [
    "in_match_player_features = [x for x in in_match_player_features if x not in ['roadKills','teamKills','vehicleDestroys']]"
   ]
  },
  {
   "cell_type": "code",
   "execution_count": 187,
   "metadata": {},
   "outputs": [
    {
     "data": {
      "text/plain": [
       "['assists',\n",
       " 'boosts',\n",
       " 'damageDealt',\n",
       " 'DBNOs',\n",
       " 'headshotKills',\n",
       " 'killPlace',\n",
       " 'kills',\n",
       " 'killStreaks',\n",
       " 'longestKill',\n",
       " 'revives',\n",
       " 'rideDistance',\n",
       " 'swimDistance',\n",
       " 'walkDistance',\n",
       " 'weaponsAcquired']"
      ]
     },
     "execution_count": 187,
     "metadata": {},
     "output_type": "execute_result"
    }
   ],
   "source": [
    "in_match_player_features"
   ]
  },
  {
   "cell_type": "markdown",
   "metadata": {},
   "source": [
    "### Data Correlation"
   ]
  },
  {
   "cell_type": "code",
   "execution_count": 31,
   "metadata": {
    "_uuid": "6f6240ebf0e8e6632a9acfc8f4abbc0a966394fe"
   },
   "outputs": [
    {
     "data": {
      "image/png": "[encoded data removed]",
      "text/plain": [
       "<Figure size 1080x1080 with 2 Axes>"
      ]
     },
     "metadata": {
      "needs_background": "light"
     },
     "output_type": "display_data"
    }
   ],
   "source": [
    "f,ax = plt.subplots(figsize=(15, 15))\n",
    "sns.heatmap(df[in_match_player_features+prediction_feature].corr(), annot=True, linewidths=.5, fmt= '.1f',ax=ax)\n",
    "plt.show()"
   ]
  },
  {
   "cell_type": "markdown",
   "metadata": {},
   "source": [
    "#### Feature of game mode (solo, duo, squad)"
   ]
  },
  {
   "cell_type": "code",
   "execution_count": 188,
   "metadata": {},
   "outputs": [],
   "source": [
    "df['GameMode'] = np.where(df['numGroups']>50,'Solo',np.where((df['numGroups']>25) & (df['numGroups']<=50),'Duo','Squad'))"
   ]
  },
  {
   "cell_type": "code",
   "execution_count": 189,
   "metadata": {},
   "outputs": [
    {
     "data": {
      "text/html": [
       "<div>\n",
       "<style scoped>\n",
       "    .dataframe tbody tr th:only-of-type {\n",
       "        vertical-align: middle;\n",
       "    }\n",
       "\n",
       "    .dataframe tbody tr th {\n",
       "        vertical-align: top;\n",
       "    }\n",
       "\n",
       "    .dataframe thead th {\n",
       "        text-align: right;\n",
       "    }\n",
       "</style>\n",
       "<table border=\"1\" class=\"dataframe\">\n",
       "  <thead>\n",
       "    <tr style=\"text-align: right;\">\n",
       "      <th></th>\n",
       "      <th>Unnamed: 0</th>\n",
       "      <th>Id</th>\n",
       "      <th>groupId</th>\n",
       "      <th>matchId</th>\n",
       "      <th>assists</th>\n",
       "      <th>boosts</th>\n",
       "      <th>damageDealt</th>\n",
       "      <th>DBNOs</th>\n",
       "      <th>headshotKills</th>\n",
       "      <th>heals</th>\n",
       "      <th>...</th>\n",
       "      <th>rideDistance</th>\n",
       "      <th>roadKills</th>\n",
       "      <th>swimDistance</th>\n",
       "      <th>teamKills</th>\n",
       "      <th>vehicleDestroys</th>\n",
       "      <th>walkDistance</th>\n",
       "      <th>weaponsAcquired</th>\n",
       "      <th>winPoints</th>\n",
       "      <th>winPlacePerc</th>\n",
       "      <th>GameMode</th>\n",
       "    </tr>\n",
       "  </thead>\n",
       "  <tbody>\n",
       "    <tr>\n",
       "      <th>1674654</th>\n",
       "      <td>2031175</td>\n",
       "      <td>2ad1b40d3454b2</td>\n",
       "      <td>69b9eabed4bc8c</td>\n",
       "      <td>736b61d2dc9a75</td>\n",
       "      <td>0</td>\n",
       "      <td>1</td>\n",
       "      <td>40.13</td>\n",
       "      <td>0</td>\n",
       "      <td>0</td>\n",
       "      <td>1</td>\n",
       "      <td>...</td>\n",
       "      <td>181.5</td>\n",
       "      <td>0</td>\n",
       "      <td>0.0</td>\n",
       "      <td>0</td>\n",
       "      <td>0</td>\n",
       "      <td>1347.0</td>\n",
       "      <td>3</td>\n",
       "      <td>0</td>\n",
       "      <td>0.6458</td>\n",
       "      <td>Duo</td>\n",
       "    </tr>\n",
       "    <tr>\n",
       "      <th>608744</th>\n",
       "      <td>738975</td>\n",
       "      <td>b25b255f0eafbd</td>\n",
       "      <td>05e127f065cd64</td>\n",
       "      <td>3c79a8391f8253</td>\n",
       "      <td>0</td>\n",
       "      <td>4</td>\n",
       "      <td>214.60</td>\n",
       "      <td>1</td>\n",
       "      <td>0</td>\n",
       "      <td>2</td>\n",
       "      <td>...</td>\n",
       "      <td>2471.0</td>\n",
       "      <td>0</td>\n",
       "      <td>0.0</td>\n",
       "      <td>0</td>\n",
       "      <td>0</td>\n",
       "      <td>1534.0</td>\n",
       "      <td>9</td>\n",
       "      <td>1551</td>\n",
       "      <td>0.6444</td>\n",
       "      <td>Duo</td>\n",
       "    </tr>\n",
       "    <tr>\n",
       "      <th>243921</th>\n",
       "      <td>295603</td>\n",
       "      <td>fac2dde2370424</td>\n",
       "      <td>49ee2fecb19c4a</td>\n",
       "      <td>acf242954fbd7a</td>\n",
       "      <td>0</td>\n",
       "      <td>0</td>\n",
       "      <td>72.75</td>\n",
       "      <td>0</td>\n",
       "      <td>0</td>\n",
       "      <td>1</td>\n",
       "      <td>...</td>\n",
       "      <td>0.0</td>\n",
       "      <td>0</td>\n",
       "      <td>0.0</td>\n",
       "      <td>0</td>\n",
       "      <td>0</td>\n",
       "      <td>634.8</td>\n",
       "      <td>4</td>\n",
       "      <td>0</td>\n",
       "      <td>0.2069</td>\n",
       "      <td>Duo</td>\n",
       "    </tr>\n",
       "  </tbody>\n",
       "</table>\n",
       "<p>3 rows × 31 columns</p>\n",
       "</div>"
      ],
      "text/plain": [
       "         Unnamed: 0              Id         groupId         matchId  assists  \\\n",
       "1674654     2031175  2ad1b40d3454b2  69b9eabed4bc8c  736b61d2dc9a75        0   \n",
       "608744       738975  b25b255f0eafbd  05e127f065cd64  3c79a8391f8253        0   \n",
       "243921       295603  fac2dde2370424  49ee2fecb19c4a  acf242954fbd7a        0   \n",
       "\n",
       "         boosts  damageDealt  DBNOs  headshotKills  heals  ...  rideDistance  \\\n",
       "1674654       1        40.13      0              0      1  ...         181.5   \n",
       "608744        4       214.60      1              0      2  ...        2471.0   \n",
       "243921        0        72.75      0              0      1  ...           0.0   \n",
       "\n",
       "         roadKills  swimDistance  teamKills  vehicleDestroys  walkDistance  \\\n",
       "1674654          0           0.0          0                0        1347.0   \n",
       "608744           0           0.0          0                0        1534.0   \n",
       "243921           0           0.0          0                0         634.8   \n",
       "\n",
       "        weaponsAcquired  winPoints  winPlacePerc  GameMode  \n",
       "1674654               3          0        0.6458       Duo  \n",
       "608744                9       1551        0.6444       Duo  \n",
       "243921                4          0        0.2069       Duo  \n",
       "\n",
       "[3 rows x 31 columns]"
      ]
     },
     "execution_count": 189,
     "metadata": {},
     "output_type": "execute_result"
    }
   ],
   "source": [
    "df.head(3)"
   ]
  },
  {
   "cell_type": "code",
   "execution_count": 190,
   "metadata": {},
   "outputs": [],
   "source": [
    "new_columns = pd.get_dummies(df[['GameMode']], prefix_sep='_')"
   ]
  },
  {
   "cell_type": "code",
   "execution_count": 191,
   "metadata": {},
   "outputs": [
    {
     "data": {
      "text/html": [
       "<div>\n",
       "<style scoped>\n",
       "    .dataframe tbody tr th:only-of-type {\n",
       "        vertical-align: middle;\n",
       "    }\n",
       "\n",
       "    .dataframe tbody tr th {\n",
       "        vertical-align: top;\n",
       "    }\n",
       "\n",
       "    .dataframe thead th {\n",
       "        text-align: right;\n",
       "    }\n",
       "</style>\n",
       "<table border=\"1\" class=\"dataframe\">\n",
       "  <thead>\n",
       "    <tr style=\"text-align: right;\">\n",
       "      <th></th>\n",
       "      <th>GameMode_Duo</th>\n",
       "      <th>GameMode_Solo</th>\n",
       "      <th>GameMode_Squad</th>\n",
       "    </tr>\n",
       "  </thead>\n",
       "  <tbody>\n",
       "    <tr>\n",
       "      <th>1674654</th>\n",
       "      <td>1</td>\n",
       "      <td>0</td>\n",
       "      <td>0</td>\n",
       "    </tr>\n",
       "    <tr>\n",
       "      <th>608744</th>\n",
       "      <td>1</td>\n",
       "      <td>0</td>\n",
       "      <td>0</td>\n",
       "    </tr>\n",
       "    <tr>\n",
       "      <th>243921</th>\n",
       "      <td>1</td>\n",
       "      <td>0</td>\n",
       "      <td>0</td>\n",
       "    </tr>\n",
       "  </tbody>\n",
       "</table>\n",
       "</div>"
      ],
      "text/plain": [
       "         GameMode_Duo  GameMode_Solo  GameMode_Squad\n",
       "1674654             1              0               0\n",
       "608744              1              0               0\n",
       "243921              1              0               0"
      ]
     },
     "execution_count": 191,
     "metadata": {},
     "output_type": "execute_result"
    }
   ],
   "source": [
    "new_columns.head(3)"
   ]
  },
  {
   "cell_type": "code",
   "execution_count": 192,
   "metadata": {},
   "outputs": [],
   "source": [
    "df = pd.concat([df,new_columns],axis=1)"
   ]
  },
  {
   "cell_type": "code",
   "execution_count": 193,
   "metadata": {},
   "outputs": [
    {
     "data": {
      "text/html": [
       "<div>\n",
       "<style scoped>\n",
       "    .dataframe tbody tr th:only-of-type {\n",
       "        vertical-align: middle;\n",
       "    }\n",
       "\n",
       "    .dataframe tbody tr th {\n",
       "        vertical-align: top;\n",
       "    }\n",
       "\n",
       "    .dataframe thead th {\n",
       "        text-align: right;\n",
       "    }\n",
       "</style>\n",
       "<table border=\"1\" class=\"dataframe\">\n",
       "  <thead>\n",
       "    <tr style=\"text-align: right;\">\n",
       "      <th></th>\n",
       "      <th>Unnamed: 0</th>\n",
       "      <th>Id</th>\n",
       "      <th>groupId</th>\n",
       "      <th>matchId</th>\n",
       "      <th>assists</th>\n",
       "      <th>boosts</th>\n",
       "      <th>damageDealt</th>\n",
       "      <th>DBNOs</th>\n",
       "      <th>headshotKills</th>\n",
       "      <th>heals</th>\n",
       "      <th>...</th>\n",
       "      <th>swimDistance</th>\n",
       "      <th>teamKills</th>\n",
       "      <th>vehicleDestroys</th>\n",
       "      <th>walkDistance</th>\n",
       "      <th>weaponsAcquired</th>\n",
       "      <th>winPoints</th>\n",
       "      <th>winPlacePerc</th>\n",
       "      <th>GameMode_Duo</th>\n",
       "      <th>GameMode_Solo</th>\n",
       "      <th>GameMode_Squad</th>\n",
       "    </tr>\n",
       "  </thead>\n",
       "  <tbody>\n",
       "    <tr>\n",
       "      <th>1674654</th>\n",
       "      <td>2031175</td>\n",
       "      <td>2ad1b40d3454b2</td>\n",
       "      <td>69b9eabed4bc8c</td>\n",
       "      <td>736b61d2dc9a75</td>\n",
       "      <td>0</td>\n",
       "      <td>1</td>\n",
       "      <td>40.13</td>\n",
       "      <td>0</td>\n",
       "      <td>0</td>\n",
       "      <td>1</td>\n",
       "      <td>...</td>\n",
       "      <td>0.0</td>\n",
       "      <td>0</td>\n",
       "      <td>0</td>\n",
       "      <td>1347.0</td>\n",
       "      <td>3</td>\n",
       "      <td>0</td>\n",
       "      <td>0.6458</td>\n",
       "      <td>1</td>\n",
       "      <td>0</td>\n",
       "      <td>0</td>\n",
       "    </tr>\n",
       "    <tr>\n",
       "      <th>608744</th>\n",
       "      <td>738975</td>\n",
       "      <td>b25b255f0eafbd</td>\n",
       "      <td>05e127f065cd64</td>\n",
       "      <td>3c79a8391f8253</td>\n",
       "      <td>0</td>\n",
       "      <td>4</td>\n",
       "      <td>214.60</td>\n",
       "      <td>1</td>\n",
       "      <td>0</td>\n",
       "      <td>2</td>\n",
       "      <td>...</td>\n",
       "      <td>0.0</td>\n",
       "      <td>0</td>\n",
       "      <td>0</td>\n",
       "      <td>1534.0</td>\n",
       "      <td>9</td>\n",
       "      <td>1551</td>\n",
       "      <td>0.6444</td>\n",
       "      <td>1</td>\n",
       "      <td>0</td>\n",
       "      <td>0</td>\n",
       "    </tr>\n",
       "    <tr>\n",
       "      <th>243921</th>\n",
       "      <td>295603</td>\n",
       "      <td>fac2dde2370424</td>\n",
       "      <td>49ee2fecb19c4a</td>\n",
       "      <td>acf242954fbd7a</td>\n",
       "      <td>0</td>\n",
       "      <td>0</td>\n",
       "      <td>72.75</td>\n",
       "      <td>0</td>\n",
       "      <td>0</td>\n",
       "      <td>1</td>\n",
       "      <td>...</td>\n",
       "      <td>0.0</td>\n",
       "      <td>0</td>\n",
       "      <td>0</td>\n",
       "      <td>634.8</td>\n",
       "      <td>4</td>\n",
       "      <td>0</td>\n",
       "      <td>0.2069</td>\n",
       "      <td>1</td>\n",
       "      <td>0</td>\n",
       "      <td>0</td>\n",
       "    </tr>\n",
       "  </tbody>\n",
       "</table>\n",
       "<p>3 rows × 33 columns</p>\n",
       "</div>"
      ],
      "text/plain": [
       "         Unnamed: 0              Id         groupId         matchId  assists  \\\n",
       "1674654     2031175  2ad1b40d3454b2  69b9eabed4bc8c  736b61d2dc9a75        0   \n",
       "608744       738975  b25b255f0eafbd  05e127f065cd64  3c79a8391f8253        0   \n",
       "243921       295603  fac2dde2370424  49ee2fecb19c4a  acf242954fbd7a        0   \n",
       "\n",
       "         boosts  damageDealt  DBNOs  headshotKills  heals  ...  swimDistance  \\\n",
       "1674654       1        40.13      0              0      1  ...           0.0   \n",
       "608744        4       214.60      1              0      2  ...           0.0   \n",
       "243921        0        72.75      0              0      1  ...           0.0   \n",
       "\n",
       "         teamKills  vehicleDestroys  walkDistance  weaponsAcquired  winPoints  \\\n",
       "1674654          0                0        1347.0                3          0   \n",
       "608744           0                0        1534.0                9       1551   \n",
       "243921           0                0         634.8                4          0   \n",
       "\n",
       "        winPlacePerc  GameMode_Duo  GameMode_Solo  GameMode_Squad  \n",
       "1674654       0.6458             1              0               0  \n",
       "608744        0.6444             1              0               0  \n",
       "243921        0.2069             1              0               0  \n",
       "\n",
       "[3 rows x 33 columns]"
      ]
     },
     "execution_count": 193,
     "metadata": {},
     "output_type": "execute_result"
    }
   ],
   "source": [
    "df.drop(['GameMode'],inplace=True,axis=1)\n",
    "df.head(3)"
   ]
  },
  {
   "cell_type": "code",
   "execution_count": 194,
   "metadata": {},
   "outputs": [],
   "source": [
    "general_result_array = {}"
   ]
  },
  {
   "cell_type": "markdown",
   "metadata": {},
   "source": [
    "#### Linear Regression - no polynomial"
   ]
  },
  {
   "cell_type": "code",
   "execution_count": 195,
   "metadata": {},
   "outputs": [
    {
     "name": "stdout",
     "output_type": "stream",
     "text": [
      "[fold 0] RMSE 0.01529 R2: 0.81270\n",
      "[fold 1] RMSE 0.01540 R2: 0.81132\n",
      "[fold 2] RMSE 0.01542 R2: 0.81022\n",
      "[fold 3] RMSE 0.01546 R2: 0.81101\n",
      "[fold 4] RMSE 0.01558 R2: 0.80872\n",
      "[fold 5] RMSE 0.01533 R2: 0.81159\n",
      "[fold 6] RMSE 0.01538 R2: 0.81137\n",
      "[fold 7] RMSE 0.01531 R2: 0.81181\n",
      "[fold 8] RMSE 0.01534 R2: 0.81229\n",
      "[fold 9] RMSE 0.01540 R2: 0.81236\n",
      "Time spent: 0.07441794077555339\n"
     ]
    }
   ],
   "source": [
    "kf = KFold(n_splits=10)\n",
    "\n",
    "X = df[in_match_player_features] \n",
    "y = df[prediction_feature]\n",
    "\n",
    "results_linear = {}\n",
    "\n",
    "rmse_ = []\n",
    "r2_ = []\n",
    "\n",
    "start = time.time()\n",
    "for k, (train, test) in enumerate(kf.split(X, y)):\n",
    "    reg = LinearRegression(n_jobs=6)\n",
    "#     print(X.iloc[train].head(2))\n",
    "    reg.fit(X.iloc[train], y.iloc[train])\n",
    "    \n",
    "    y_pred = reg.predict(X.iloc[test])\n",
    "    y_true =  y.iloc[test]\n",
    "    rmse = mean_squared_error(y_true, y_pred)\n",
    "    r2 = reg.score(X.iloc[test], y.iloc[test])\n",
    "    rmse_.append(rmse)\n",
    "    r2_.append(r2)\n",
    "    \n",
    "    print(\"[fold {0}] RMSE {1:.5f} R2: {2:.5f}\".\n",
    "          format(k,rmse,r2))\n",
    "    \n",
    "end = time.time()\n",
    "elapsed_time = (end-start)/60\n",
    "print('Time spent: {0}'.format(elapsed_time))\n",
    "general_result_array['linear'] = {'rmse':rmse_,'r2':r2_,'time':elapsed_time}\n"
   ]
  },
  {
   "cell_type": "markdown",
   "metadata": {},
   "source": [
    "#### Linear Regression - polynomial 2"
   ]
  },
  {
   "cell_type": "code",
   "execution_count": 196,
   "metadata": {},
   "outputs": [
    {
     "name": "stdout",
     "output_type": "stream",
     "text": [
      "[fold 0] RMSE 0.01109 R2: 0.86415\n",
      "[fold 1] RMSE 0.01110 R2: 0.86397\n",
      "[fold 2] RMSE 0.01121 R2: 0.86206\n",
      "[fold 3] RMSE 0.01107 R2: 0.86470\n",
      "[fold 4] RMSE 0.01117 R2: 0.86286\n",
      "[fold 5] RMSE 0.01104 R2: 0.86430\n",
      "[fold 6] RMSE 0.01098 R2: 0.86530\n",
      "[fold 7] RMSE 0.01099 R2: 0.86491\n",
      "[fold 8] RMSE 0.01103 R2: 0.86508\n",
      "[fold 9] RMSE 0.01097 R2: 0.86636\n",
      "Time spent: 1.8308854738871256\n"
     ]
    }
   ],
   "source": [
    "kf = KFold(n_splits=10)\n",
    "\n",
    "X = df[in_match_player_features] \n",
    "y = df[prediction_feature]\n",
    "\n",
    "r2_ = []\n",
    "rmse_ = []\n",
    "\n",
    "start = time.time()\n",
    "for k, (train, test) in enumerate(kf.split(X, y)):\n",
    "    reg = make_pipeline(PolynomialFeatures(2), LinearRegression(n_jobs=6))\n",
    "#     print(X.iloc[train].head(2))\n",
    "    reg.fit(X.iloc[train], y.iloc[train])\n",
    "    \n",
    "    y_pred = reg.predict(X.iloc[test])\n",
    "    y_true =  y.iloc[test]\n",
    "    rmse = mean_squared_error(y_true, y_pred)\n",
    "    r2 = reg.score(X.iloc[test], y.iloc[test])\n",
    "    \n",
    "    rmse_.append(rmse)\n",
    "    r2_.append(r2)\n",
    "    \n",
    "    print(\"[fold {0}] RMSE {1:.5f} R2: {2:.5f}\".\n",
    "          format(k,rmse,r2))\n",
    "    \n",
    "end = time.time()\n",
    "elapsed_time = (end-start)/60\n",
    "print('Time spent: {0}'.format(elapsed_time))\n",
    "general_result_array['polinomial'] = {'rmse':rmse_,'r2':r2_,'time':elapsed_time}"
   ]
  },
  {
   "cell_type": "markdown",
   "metadata": {},
   "source": [
    "### Neural Networks - 20 neurons at intermediate layer"
   ]
  },
  {
   "cell_type": "code",
   "execution_count": 197,
   "metadata": {},
   "outputs": [
    {
     "name": "stdout",
     "output_type": "stream",
     "text": [
      "[fold 0] RMSE 0.00981 R2: 0.87986\n",
      "[fold 1] RMSE 0.00989 R2: 0.87885\n",
      "[fold 2] RMSE 0.01029 R2: 0.87333\n",
      "[fold 3] RMSE 0.01011 R2: 0.87650\n",
      "[fold 4] RMSE 0.00992 R2: 0.87820\n",
      "[fold 5] RMSE 0.00982 R2: 0.87924\n",
      "[fold 6] RMSE 0.00993 R2: 0.87814\n",
      "[fold 7] RMSE 0.00973 R2: 0.88040\n",
      "[fold 8] RMSE 0.00995 R2: 0.87821\n",
      "[fold 9] RMSE 0.00993 R2: 0.87900\n",
      "Time spent: 2.9142895658810932\n"
     ]
    }
   ],
   "source": [
    "kf = KFold(n_splits=10)\n",
    "\n",
    "X = df[in_match_player_features] \n",
    "y = df[prediction_feature]\n",
    "\n",
    "results_pol2 = {}\n",
    "\n",
    "r2_ = []\n",
    "rmse_ = []\n",
    "\n",
    "start = time.time()\n",
    "for k, (train, test) in enumerate(kf.split(X, y)):\n",
    "    reg = make_pipeline(StandardScaler(), MLPRegressor(hidden_layer_sizes=(20,)))\n",
    "    #     print(X.iloc[train].head(2))\n",
    "    reg.fit(X.iloc[train], y.iloc[train])\n",
    "    \n",
    "    y_pred = reg.predict(X.iloc[test])\n",
    "    y_true =  y.iloc[test]\n",
    "    rmse = mean_squared_error(y_true, y_pred)\n",
    "    r2 = reg.score(X.iloc[test], y.iloc[test])\n",
    "    \n",
    "    rmse_.append(rmse)\n",
    "    r2_.append(r2)\n",
    "    \n",
    "    print(\"[fold {0}] RMSE {1:.5f} R2: {2:.5f}\".\n",
    "          format(k,rmse,r2))\n",
    "    \n",
    "end = time.time()\n",
    "elapsed_time = (end-start)/60\n",
    "print('Time spent: {0}'.format(elapsed_time))\n",
    "general_result_array['polinomial'] = {'rmse':rmse_,'r2':r2_,'time':elapsed_time}"
   ]
  },
  {
   "cell_type": "markdown",
   "metadata": {},
   "source": [
    "### Neural Networks - 10 neurons at intermediate layer"
   ]
  },
  {
   "cell_type": "code",
   "execution_count": 198,
   "metadata": {},
   "outputs": [
    {
     "name": "stdout",
     "output_type": "stream",
     "text": [
      "[fold 0] RMSE 0.01046 R2: 0.87195\n",
      "[fold 1] RMSE 0.01030 R2: 0.87386\n",
      "[fold 2] RMSE 0.01043 R2: 0.87157\n",
      "[fold 3] RMSE 0.01033 R2: 0.87369\n",
      "[fold 4] RMSE 0.01030 R2: 0.87355\n",
      "[fold 5] RMSE 0.01009 R2: 0.87601\n",
      "[fold 6] RMSE 0.01001 R2: 0.87716\n",
      "[fold 7] RMSE 0.00996 R2: 0.87756\n",
      "[fold 8] RMSE 0.01018 R2: 0.87548\n",
      "[fold 9] RMSE 0.01043 R2: 0.87295\n",
      "Time spent: 2.6329830646514893\n"
     ]
    }
   ],
   "source": [
    "kf = KFold(n_splits=10)\n",
    "\n",
    "X = df[in_match_player_features] \n",
    "y = df[prediction_feature]\n",
    "\n",
    "r2_ = []\n",
    "rmse_ = []\n",
    "\n",
    "start = time.time()\n",
    "for k, (train, test) in enumerate(kf.split(X, y)):\n",
    "    reg = make_pipeline(StandardScaler(), MLPRegressor(hidden_layer_sizes=(10,)))\n",
    "    #     print(X.iloc[train].head(2))\n",
    "    reg.fit(X.iloc[train], y.iloc[train])\n",
    "    \n",
    "    y_pred = reg.predict(X.iloc[test])\n",
    "    y_true =  y.iloc[test]\n",
    "    rmse = mean_squared_error(y_true, y_pred)\n",
    "    r2 = reg.score(X.iloc[test], y.iloc[test])\n",
    "    \n",
    "    rmse_.append(rmse)\n",
    "    r2_.append(r2)\n",
    "    \n",
    "    print(\"[fold {0}] RMSE {1:.5f} R2: {2:.5f}\".\n",
    "          format(k,rmse,r2))\n",
    "    \n",
    "end = time.time()\n",
    "elapsed_time = (end-start)/60\n",
    "print('Time spent: {0}'.format(elapsed_time))\n",
    "general_result_array['rnn_10'] = {'rmse':rmse_,'r2':r2_,'time':elapsed_time}"
   ]
  },
  {
   "cell_type": "markdown",
   "metadata": {},
   "source": [
    "### Neural Networks - 5 neurons at intermediate layer"
   ]
  },
  {
   "cell_type": "code",
   "execution_count": 199,
   "metadata": {},
   "outputs": [
    {
     "name": "stdout",
     "output_type": "stream",
     "text": [
      "[fold 0] RMSE 0.01050 R2: 0.87135\n",
      "[fold 1] RMSE 0.01040 R2: 0.87258\n",
      "[fold 2] RMSE 0.01073 R2: 0.86796\n",
      "[fold 3] RMSE 0.01130 R2: 0.86192\n",
      "[fold 4] RMSE 0.01032 R2: 0.87329\n",
      "[fold 5] RMSE 0.01087 R2: 0.86633\n",
      "[fold 6] RMSE 0.01089 R2: 0.86644\n",
      "[fold 7] RMSE 0.01099 R2: 0.86492\n",
      "[fold 8] RMSE 0.01105 R2: 0.86478\n",
      "[fold 9] RMSE 0.01008 R2: 0.87721\n",
      "Time spent: 2.5974674820899963\n"
     ]
    }
   ],
   "source": [
    "kf = KFold(n_splits=10)\n",
    "\n",
    "X = df[in_match_player_features] \n",
    "y = df[prediction_feature]\n",
    "\n",
    "results_pol2 = {}\n",
    "r2_ = []\n",
    "rmse_ = []\n",
    "\n",
    "start = time.time()\n",
    "for k, (train, test) in enumerate(kf.split(X, y)):\n",
    "    reg = make_pipeline(StandardScaler(), MLPRegressor(hidden_layer_sizes=(5,)))\n",
    "    #     print(X.iloc[train].head(2))\n",
    "    reg.fit(X.iloc[train], y.iloc[train])\n",
    "    \n",
    "    y_pred = reg.predict(X.iloc[test])\n",
    "    y_true =  y.iloc[test]\n",
    "    rmse = mean_squared_error(y_true, y_pred)\n",
    "    r2 = reg.score(X.iloc[test], y.iloc[test])\n",
    "    \n",
    "    rmse_.append(rmse)\n",
    "    r2_.append(r2)\n",
    "    \n",
    "    print(\"[fold {0}] RMSE {1:.5f} R2: {2:.5f}\".\n",
    "          format(k,rmse,r2))\n",
    "    \n",
    "end = time.time()\n",
    "elapsed_time = (end-start)/60    \n",
    "print('Time spent: {0}'.format(elapsed_time))\n",
    "general_result_array['rnn_5'] = {'rmse':rmse_,'r2':r2_,'time':elapsed_time}"
   ]
  },
  {
   "cell_type": "markdown",
   "metadata": {},
   "source": [
    "### Neural Networks - 2 neurons at intermediate layer"
   ]
  },
  {
   "cell_type": "code",
   "execution_count": 200,
   "metadata": {},
   "outputs": [
    {
     "name": "stdout",
     "output_type": "stream",
     "text": [
      "[fold 0] RMSE 0.01176 R2: 0.85599\n",
      "[fold 1] RMSE 0.01335 R2: 0.83641\n",
      "[fold 2] RMSE 0.01218 R2: 0.85006\n",
      "[fold 3] RMSE 0.01347 R2: 0.83534\n",
      "[fold 4] RMSE 0.01244 R2: 0.84723\n",
      "[fold 5] RMSE 0.01306 R2: 0.83946\n",
      "[fold 6] RMSE 0.01332 R2: 0.83654\n",
      "[fold 7] RMSE 0.01230 R2: 0.84883\n",
      "[fold 8] RMSE 0.01232 R2: 0.84930\n",
      "[fold 9] RMSE 0.01209 R2: 0.85272\n",
      "Time spent: 2.4335683902104694\n"
     ]
    }
   ],
   "source": [
    "kf = KFold(n_splits=10)\n",
    "\n",
    "X = df[in_match_player_features] \n",
    "y = df[prediction_feature]\n",
    "\n",
    "\n",
    "r2_ = []\n",
    "rmse_ = []\n",
    "\n",
    "start = time.time()\n",
    "for k, (train, test) in enumerate(kf.split(X, y)):\n",
    "    reg = make_pipeline(StandardScaler(), MLPRegressor(hidden_layer_sizes=(2,)))\n",
    "    #     print(X.iloc[train].head(2))\n",
    "    reg.fit(X.iloc[train], y.iloc[train])\n",
    "    \n",
    "    y_pred = reg.predict(X.iloc[test])\n",
    "    y_true =  y.iloc[test]\n",
    "    rmse = mean_squared_error(y_true, y_pred)\n",
    "    r2 = reg.score(X.iloc[test], y.iloc[test])\n",
    "    \n",
    "    rmse_.append(rmse)\n",
    "    r2_.append(r2)\n",
    "    \n",
    "    print(\"[fold {0}] RMSE {1:.5f} R2: {2:.5f}\".\n",
    "          format(k,rmse,r2))\n",
    "    \n",
    "end = time.time()\n",
    "elapsed_time = (end-start)/60\n",
    "print('Time spent: {0}'.format(elapsed_time))\n",
    "general_result_array['rnn_2'] = {'rmse':rmse_,'r2':r2_,'time':elapsed_time}"
   ]
  },
  {
   "cell_type": "markdown",
   "metadata": {},
   "source": [
    "### Neural Networks - 10-5 structure layer"
   ]
  },
  {
   "cell_type": "code",
   "execution_count": 201,
   "metadata": {},
   "outputs": [
    {
     "name": "stdout",
     "output_type": "stream",
     "text": [
      "[fold 0] RMSE 0.00985 R2: 0.87934\n",
      "[fold 1] RMSE 0.00995 R2: 0.87814\n",
      "[fold 2] RMSE 0.01011 R2: 0.87556\n",
      "[fold 3] RMSE 0.01010 R2: 0.87660\n",
      "[fold 4] RMSE 0.00989 R2: 0.87857\n",
      "[fold 5] RMSE 0.01034 R2: 0.87285\n",
      "[fold 6] RMSE 0.00990 R2: 0.87855\n",
      "[fold 7] RMSE 0.00998 R2: 0.87727\n",
      "[fold 8] RMSE 0.00989 R2: 0.87893\n",
      "[fold 9] RMSE 0.00974 R2: 0.88136\n",
      "Time spent: 3.709914708137512\n"
     ]
    }
   ],
   "source": [
    "kf = KFold(n_splits=10)\n",
    "\n",
    "X = df[in_match_player_features] \n",
    "y = df[prediction_feature]\n",
    "\n",
    "\n",
    "r2_ = []\n",
    "rmse_ = []\n",
    "\n",
    "start = time.time()\n",
    "for k, (train, test) in enumerate(kf.split(X, y)):\n",
    "    reg = make_pipeline(StandardScaler(), MLPRegressor(hidden_layer_sizes=(10,5,)))\n",
    "    #     print(X.iloc[train].head(2))\n",
    "    reg.fit(X.iloc[train], y.iloc[train])\n",
    "    \n",
    "    y_pred = reg.predict(X.iloc[test])\n",
    "    y_true =  y.iloc[test]\n",
    "    rmse = mean_squared_error(y_true, y_pred)\n",
    "    r2 = reg.score(X.iloc[test], y.iloc[test])\n",
    "    \n",
    "    rmse_.append(rmse)\n",
    "    r2_.append(r2)\n",
    "    \n",
    "    print(\"[fold {0}] RMSE {1:.5f} R2: {2:.5f}\".\n",
    "          format(k,rmse,r2))\n",
    "    \n",
    "end = time.time()\n",
    "elapsed_time = (end-start)/60\n",
    "print('Time spent: {0}'.format(elapsed_time))\n",
    "general_result_array['rnn_10_5'] = {'rmse':rmse_,'r2':r2_,'time':elapsed_time}"
   ]
  },
  {
   "cell_type": "markdown",
   "metadata": {},
   "source": [
    "### Neural Networks - 20-5 structure layer"
   ]
  },
  {
   "cell_type": "code",
   "execution_count": 202,
   "metadata": {},
   "outputs": [
    {
     "name": "stdout",
     "output_type": "stream",
     "text": [
      "[fold 0] RMSE 0.00982 R2: 0.87975\n",
      "[fold 1] RMSE 0.00979 R2: 0.88004\n",
      "[fold 2] RMSE 0.00986 R2: 0.87858\n",
      "[fold 3] RMSE 0.00987 R2: 0.87941\n",
      "[fold 4] RMSE 0.00991 R2: 0.87827\n",
      "[fold 5] RMSE 0.00964 R2: 0.88147\n",
      "[fold 6] RMSE 0.01004 R2: 0.87687\n",
      "[fold 7] RMSE 0.00963 R2: 0.88163\n",
      "[fold 8] RMSE 0.00981 R2: 0.88000\n",
      "[fold 9] RMSE 0.00962 R2: 0.88275\n",
      "Time spent: 3.89723531405131\n"
     ]
    }
   ],
   "source": [
    "kf = KFold(n_splits=10)\n",
    "\n",
    "X = df[in_match_player_features] \n",
    "y = df[prediction_feature]\n",
    "\n",
    "results_pol2 = {}\n",
    "r2_ = []\n",
    "rmse_ = []\n",
    "\n",
    "start = time.time()\n",
    "for k, (train, test) in enumerate(kf.split(X, y)):\n",
    "    reg = make_pipeline(StandardScaler(), MLPRegressor(hidden_layer_sizes=(20,5,)))\n",
    "    #     print(X.iloc[train].head(2))\n",
    "    reg.fit(X.iloc[train], y.iloc[train])\n",
    "    \n",
    "    y_pred = reg.predict(X.iloc[test])\n",
    "    y_true =  y.iloc[test]\n",
    "    rmse = mean_squared_error(y_true, y_pred)\n",
    "    r2 = reg.score(X.iloc[test], y.iloc[test])\n",
    "    \n",
    "    rmse_.append(rmse)\n",
    "    r2_.append(r2)\n",
    "    \n",
    "    print(\"[fold {0}] RMSE {1:.5f} R2: {2:.5f}\".\n",
    "          format(k,rmse,r2))\n",
    "end = time.time()\n",
    "elapsed_time = (end-start)/60   \n",
    "print('Time spent: {0}'.format(elapsed_time))\n",
    "general_result_array['rnn_20_5'] = {'rmse':rmse_,'r2':r2_,'time':elapsed_time}"
   ]
  },
  {
   "cell_type": "markdown",
   "metadata": {},
   "source": [
    "### GradientBoosting - 100 arvores"
   ]
  },
  {
   "cell_type": "code",
   "execution_count": 203,
   "metadata": {},
   "outputs": [
    {
     "name": "stdout",
     "output_type": "stream",
     "text": [
      "[fold 0] RMSE 0.01040 R2: 0.87268\n",
      "[fold 1] RMSE 0.01045 R2: 0.87199\n",
      "[fold 2] RMSE 0.01059 R2: 0.86969\n",
      "[fold 3] RMSE 0.01066 R2: 0.86970\n",
      "[fold 4] RMSE 0.01053 R2: 0.87063\n",
      "[fold 5] RMSE 0.01046 R2: 0.87138\n",
      "[fold 6] RMSE 0.01038 R2: 0.87262\n",
      "[fold 7] RMSE 0.01042 R2: 0.87194\n",
      "[fold 8] RMSE 0.01046 R2: 0.87198\n",
      "[fold 9] RMSE 0.01036 R2: 0.87375\n",
      "Time spent: 12.70135991970698\n"
     ]
    }
   ],
   "source": [
    "kf = KFold(n_splits=10)\n",
    "\n",
    "X = df[in_match_player_features] \n",
    "y = df[prediction_feature]\n",
    "\n",
    "r2_ = []\n",
    "rmse_ = []\n",
    "\n",
    "start = time.time()\n",
    "for k, (train, test) in enumerate(kf.split(X, y)):\n",
    "    reg = make_pipeline(GradientBoostingRegressor(n_estimators=100))\n",
    "    #     print(X.iloc[train].head(2))\n",
    "    reg.fit(X.iloc[train], y.iloc[train])\n",
    "    \n",
    "    y_pred = reg.predict(X.iloc[test])\n",
    "    y_true =  y.iloc[test]\n",
    "    rmse = mean_squared_error(y_true, y_pred)\n",
    "    r2 = reg.score(X.iloc[test], y.iloc[test])\n",
    "    \n",
    "    rmse_.append(rmse)\n",
    "    r2_.append(r2)\n",
    "    \n",
    "    print(\"[fold {0}] RMSE {1:.5f} R2: {2:.5f}\".\n",
    "          format(k,rmse,r2))\n",
    "end = time.time()\n",
    "elapsed_time = (end-start)/60\n",
    "print('Time spent: {0}'.format(elapsed_time))\n",
    "general_result_array['gradientboosting'] = {'rmse':rmse_,'r2':r2_,'time':elapsed_time}"
   ]
  },
  {
   "cell_type": "markdown",
   "metadata": {},
   "source": [
    "### XGBoost - 100 arvores"
   ]
  },
  {
   "cell_type": "code",
   "execution_count": 204,
   "metadata": {},
   "outputs": [
    {
     "name": "stdout",
     "output_type": "stream",
     "text": [
      "[fold 0] RMSE 0.01036 R2: 0.87309\n",
      "[fold 1] RMSE 0.01045 R2: 0.87199\n",
      "[fold 2] RMSE 0.01059 R2: 0.86968\n",
      "[fold 3] RMSE 0.01066 R2: 0.86970\n",
      "[fold 4] RMSE 0.01053 R2: 0.87063\n",
      "[fold 5] RMSE 0.01046 R2: 0.87143\n",
      "[fold 6] RMSE 0.01038 R2: 0.87262\n",
      "[fold 7] RMSE 0.01042 R2: 0.87194\n",
      "[fold 8] RMSE 0.01046 R2: 0.87202\n",
      "[fold 9] RMSE 0.01036 R2: 0.87375\n",
      "Time spent: 8.680144516626994\n"
     ]
    }
   ],
   "source": [
    "kf = KFold(n_splits=10)\n",
    "\n",
    "X = df[in_match_player_features] \n",
    "y = df[prediction_feature]\n",
    "\n",
    "r2_ = []\n",
    "rmse_ = []\n",
    "\n",
    "start = time.time()\n",
    "for k, (train, test) in enumerate(kf.split(X, y)):\n",
    "    reg = xgb.XGBRegressor(n_estimators=100)\n",
    "    #     print(X.iloc[train].head(2))\n",
    "    reg.fit(X.iloc[train], y.iloc[train])\n",
    "    \n",
    "    y_pred = reg.predict(X.iloc[test])\n",
    "    y_true =  y.iloc[test]\n",
    "    rmse = mean_squared_error(y_true, y_pred)\n",
    "    r2 = reg.score(X.iloc[test], y.iloc[test])\n",
    "    \n",
    "    rmse_.append(rmse)\n",
    "    r2_.append(r2)\n",
    "    \n",
    "    print(\"[fold {0}] RMSE {1:.5f} R2: {2:.5f}\".\n",
    "          format(k,rmse,r2))\n",
    "end = time.time()\n",
    "elapsed_time = (end-start)/60  \n",
    "print('Time spent: {0}'.format(elapsed_time))\n",
    "general_result_array['xgboost'] = {'rmse':rmse_,'r2':r2_,'time':elapsed_time}"
   ]
  },
  {
   "cell_type": "markdown",
   "metadata": {},
   "source": [
    "### Results"
   ]
  },
  {
   "cell_type": "code",
   "execution_count": 108,
   "metadata": {},
   "outputs": [],
   "source": [
    "keys_rmse = {}\n",
    "# rmse_ = []\n",
    "keys_r2 = {}\n",
    "for key,value in general_result_array.items():\n",
    "    keys_rmse[key] = np.array(general_result_array[key]['rmse']).mean()\n",
    "    keys_r2[key] = np.array(general_result_array[key]['r2']).mean()"
   ]
  },
  {
   "cell_type": "code",
   "execution_count": 157,
   "metadata": {},
   "outputs": [],
   "source": [
    "keys_r2 = collections.OrderedDict(sorted(keys_r2.items(), key=lambda x: x[1]))\n",
    "keys_rmse_ordered_by_r2 = {}\n",
    "\n",
    "for key in keys_r2:\n",
    "    new_key = key.replace('rnn','r_nn_')\n",
    "    keys_rmse_ordered_by_r2[new_key] = keys_rmse[key]\n",
    "    "
   ]
  },
  {
   "cell_type": "code",
   "execution_count": 178,
   "metadata": {},
   "outputs": [
    {
     "data": {
      "image/png": "[encoded data removed]",
      "text/plain": [
       "<Figure size 1440x432 with 2 Axes>"
      ]
     },
     "metadata": {},
     "output_type": "display_data"
    },
    {
     "data": {
      "text/plain": [
       "<Figure size 432x288 with 0 Axes>"
      ]
     },
     "metadata": {},
     "output_type": "display_data"
    }
   ],
   "source": [
    "fig, ax1 = plt.subplots(figsize=(20, 6))\n",
    "\n",
    "\n",
    "names = list(keys_rmse_ordered_by_r2.keys())\n",
    "values = list(keys_rmse_ordered_by_r2.values())\n",
    "values2 = list(keys_r2.values())\n",
    "\n",
    "\n",
    "# plt.show()\n",
    "\n",
    "color = 'grey'\n",
    "ax1.set_ylabel('RMSE', color=color)\n",
    "ax1.bar(range(len(names)),values,tick_label=names,color=color)\n",
    "ax1.tick_params(axis='y', labelcolor=color)\n",
    "\n",
    "ax2 = ax1.twinx()  # instantiate a second axes that shares the same x-axis\n",
    "\n",
    "color = 'blue'\n",
    "ax2.set_ylabel('R2', color=color)  # we already handled the x-label with ax1\n",
    "ax2.plot(names, values2, 'bo-',color=color)\n",
    "# ax2.scatter(names, values2, color=color)\n",
    "ax2.tick_params(axis='y', labelcolor=color)\n",
    "plt.yticks(np.arange(0.81, 0.89, 0.005))\n",
    "\n",
    "fig.tight_layout()  # otherwise the right y-label is slightly clipped\n",
    "plt.show()\n",
    "plt.savefig(os.path.join('out','resultado_benchmark.png'))"
   ]
  },
  {
   "cell_type": "code",
   "execution_count": 207,
   "metadata": {},
   "outputs": [],
   "source": [
    "import json\n",
    "\n",
    "output_path = os.path.join('out','general_result_array.json')\n",
    "with open(output_path, 'w') as outfile:\n",
    "    json.dump(general_result_array, outfile)"
   ]
  }
 ],
 "metadata": {
  "kernelspec": {
   "display_name": "Python 3",
   "language": "python",
   "name": "python3"
  },
  "language_info": {
   "codemirror_mode": {
    "name": "ipython",
    "version": 3
   },
   "file_extension": ".py",
   "mimetype": "text/x-python",
   "name": "python",
   "nbconvert_exporter": "python",
   "pygments_lexer": "ipython3",
   "version": "3.7.3"
  }
 },
 "nbformat": 4,
 "nbformat_minor": 2
}
